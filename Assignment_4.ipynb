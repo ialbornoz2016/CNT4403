{
  "nbformat": 4,
  "nbformat_minor": 0,
  "metadata": {
    "colab": {
      "provenance": [],
      "authorship_tag": "ABX9TyMCjwCShQi206IPQjCBvdQC",
      "include_colab_link": true
    },
    "kernelspec": {
      "name": "python3",
      "display_name": "Python 3"
    },
    "language_info": {
      "name": "python"
    }
  },
  "cells": [
    {
      "cell_type": "markdown",
      "metadata": {
        "id": "view-in-github",
        "colab_type": "text"
      },
      "source": [
        "<a href=\"https://colab.research.google.com/github/ialbornoz2016/CNT4403/blob/main/Assignment_4.ipynb\" target=\"_parent\"><img src=\"https://colab.research.google.com/assets/colab-badge.svg\" alt=\"Open In Colab\"/></a>"
      ]
    },
    {
      "cell_type": "code",
      "execution_count": 234,
      "metadata": {
        "id": "gEWqspJGvfGD"
      },
      "outputs": [],
      "source": [
        "import numpy as np\n",
        "import matplotlib.pyplot as plt\n",
        "\n",
        "class NeuralNetwork(object):\n",
        "  def __init__ (self):\n",
        "    np.random.seed(1)\n",
        "    self.weight_matrix = 2 * np.random.random((3,1)) - 1\n",
        "    self.learning_r = 1\n",
        "\n",
        "  def sigmoid(self, x):\n",
        "    return 1/(1 + np.exp(-x))\n",
        "\n",
        "  def forward_propagation(self, inputs):\n",
        "    outs=np.dot(inputs, self.weight_matrix)\n",
        "    return self.sigmoid(outs)\n",
        "\n",
        "  def train(self, inputs_train, labels_train, num_train_iterations = 10, lr = 1):\n",
        "    N = inputs_train.shape[0]\n",
        "    self.learning_r = lr\n",
        "    cost_func = np.array([])\n",
        "    \n",
        "    for iteration in range(num_train_iterations):\n",
        "      outputs = self.forward_propagation(inputs_train)\n",
        "      error = labels_train - outputs\n",
        "      adjustment = (self.learning_r/N)*np.sum(np.multiply(error,inputs_train), axis = 0)\n",
        "      cost_func = np.append(cost_func, (1/2*N)*np.sum(np.power(error,2)))     \n",
        "      self.weight_matrix[:,0] += adjustment\n",
        "      print('Iteration #'+str(iteration))\n",
        "      plot_fun_thr(inputs_train[:,1:3], labels_train[:,0], \n",
        "                    self.weight_matrix[:,0], classes)\n",
        "      \n",
        "    plot_cost_function(cost_func, num_train_iterations)\n",
        "\n",
        "  def pred(self,inputs):\n",
        "    prob=self.forward_propagation(inputs)\n",
        "    preds=np.int8(prob>=0.5)\n",
        "    return preds\n",
        "\n",
        "def plot_cost_function(J, iterations):\n",
        "    x = np.arange(iterations, dtype = int)\n",
        "    y = J\n",
        "    plt.plot(x,y)\n",
        "    plt.axis([-1, x.shape[0]+1, -1,np.max(y)+1])\n",
        "    plt.title('Learning Curve')\n",
        "    plt.xlabel('x:  iteration number')\n",
        "    plt.ylabel('y:  J(0)')\n",
        "    plt.show\n",
        "\n",
        "def plot_fun(features,labels,classes):\n",
        "    #plotting data points\n",
        "    plt.plot(features[labels[:]==classes[0],0],features[labels[:]==classes[0],1], 'rs',\n",
        "           features[labels[:]==classes[1],0], features[labels[:]==classes[1],1], 'g^')\n",
        "    plt.axis([-1.5,3,-1.5,3])\n",
        "    plt.xlabel('x: feature 1')\n",
        "    plt.ylabel('y: feature 2')\n",
        "    plt.legend(['Class'+str(classes[0]), 'Class'+str(classes[1])])\n",
        "    plt.show\n",
        "\n",
        "def plot_fun_thr(features,labels,thre_parms,classes):\n",
        "    #plotting data points\n",
        "    plt.plot(features[labels[:]==classes[0],0],features[labels[:]==classes[0],1], 'rs',\n",
        "           features[labels[:]==classes[1],0], features[labels[:]==classes[1],1], 'g^')\n",
        "    plt.axis([-1.5,3,-1.5,3])\n",
        "    x1 = np.linspace(-1,2,50)\n",
        "    x2 = -(thre_parms[1]*x1+thre_parms[0])/thre_parms[2]    #ax1 + bx2 + c = 0 --> -(ax1+c)/b\n",
        "    plt.plot(x1,x2, '-r')\n",
        "    plt.xlabel('x: feature 1')\n",
        "    plt.ylabel('y: feature 2')\n",
        "    plt.legend(['Class'+str(classes[0]), 'Class'+str(classes[1])])\n",
        "    plt.show\n",
        "\n",
        "\n"
      ]
    },
    {
      "cell_type": "code",
      "source": [
        "features=np.array([[1,1], [1,0], [0,1], [0.5,-1], [0.5, 3], [0.7, 2], [-1,0], [-1,1], [2,0], [0,0]])\n",
        "labels = np.array([1,1,0,0,1,1,0,0,1,0])\n",
        "classes=[0,1]\n",
        "\n",
        "\n",
        "\n",
        "plot_fun(features,labels,classes)"
      ],
      "metadata": {
        "colab": {
          "base_uri": "https://localhost:8080/",
          "height": 283
        },
        "id": "uGoLc3ZLytoG",
        "outputId": "45456b57-d363-45c1-e7e7-595ebefdae57"
      },
      "execution_count": 235,
      "outputs": [
        {
          "output_type": "display_data",
          "data": {
            "text/plain": [
              "<Figure size 432x288 with 1 Axes>"
            ],
            "image/png": "[encoded data removed]"
          },
          "metadata": {
            "needs_background": "light"
          }
        }
      ]
    },
    {
      "cell_type": "code",
      "source": [
        "bias=np.ones((features.shape[0],1))\n",
        "features = np.append(bias,features,axis =1)\n",
        "print('Features matrix')\n",
        "print(features)\n",
        "print('Features matrix shape')\n",
        "print(features.shape)"
      ],
      "metadata": {
        "colab": {
          "base_uri": "https://localhost:8080/",
          "height": 0
        },
        "id": "qFhIt8Af_jKc",
        "outputId": "70d663a5-09e6-4e52-d3c9-eaf429993ed1"
      },
      "execution_count": 236,
      "outputs": [
        {
          "output_type": "stream",
          "name": "stdout",
          "text": [
            "Features matrix\n",
            "[[ 1.   1.   1. ]\n",
            " [ 1.   1.   0. ]\n",
            " [ 1.   0.   1. ]\n",
            " [ 1.   0.5 -1. ]\n",
            " [ 1.   0.5  3. ]\n",
            " [ 1.   0.7  2. ]\n",
            " [ 1.  -1.   0. ]\n",
            " [ 1.  -1.   1. ]\n",
            " [ 1.   2.   0. ]\n",
            " [ 1.   0.   0. ]]\n",
            "Features matrix shape\n",
            "(10, 3)\n"
          ]
        }
      ]
    },
    {
      "cell_type": "code",
      "source": [
        "neural_network = NeuralNetwork()\n",
        "print ('Random weights at the start of training')\n",
        "print (neural_network.weight_matrix)\n",
        "neural_network.train(features, np.expand_dims(labels,axis=1), 50)\n",
        "\n",
        "\n",
        "print('New weights after training')\n",
        "print(neural_network.weight_matrix)"
      ],
      "metadata": {
        "colab": {
          "base_uri": "https://localhost:8080/",
          "height": 1302
        },
        "id": "mV_FXz41Hcu9",
        "outputId": "1371433f-776e-471b-d600-c2835bb6bbd8"
      },
      "execution_count": 237,
      "outputs": [
        {
          "output_type": "stream",
          "name": "stdout",
          "text": [
            "Random weights at the start of training\n",
            "[[-0.16595599]\n",
            " [ 0.44064899]\n",
            " [-0.99977125]]\n",
            "Iteration #0\n",
            "Iteration #1\n",
            "Iteration #2\n",
            "Iteration #3\n",
            "Iteration #4\n",
            "Iteration #5\n",
            "Iteration #6\n",
            "Iteration #7\n",
            "Iteration #8\n",
            "Iteration #9\n",
            "Iteration #10\n",
            "Iteration #11\n",
            "Iteration #12\n",
            "Iteration #13\n",
            "Iteration #14\n",
            "Iteration #15\n",
            "Iteration #16\n",
            "Iteration #17\n",
            "Iteration #18\n",
            "Iteration #19\n",
            "Iteration #20\n",
            "Iteration #21\n",
            "Iteration #22\n",
            "Iteration #23\n",
            "Iteration #24\n",
            "Iteration #25\n",
            "Iteration #26\n",
            "Iteration #27\n",
            "Iteration #28\n",
            "Iteration #29\n",
            "Iteration #30\n",
            "Iteration #31\n",
            "Iteration #32\n",
            "Iteration #33\n",
            "Iteration #34\n",
            "Iteration #35\n",
            "Iteration #36\n",
            "Iteration #37\n",
            "Iteration #38\n",
            "Iteration #39\n",
            "Iteration #40\n",
            "Iteration #41\n",
            "Iteration #42\n",
            "Iteration #43\n",
            "Iteration #44\n",
            "Iteration #45\n",
            "Iteration #46\n",
            "Iteration #47\n",
            "Iteration #48\n",
            "Iteration #49\n",
            "New weights after training\n",
            "[[-2.16960572]\n",
            " [ 3.46870407]\n",
            " [ 1.34808305]]\n"
          ]
        },
        {
          "output_type": "display_data",
          "data": {
            "text/plain": [
              "<Figure size 432x288 with 1 Axes>"
            ],
            "image/png": "[encoded data removed]"
          },
          "metadata": {
            "needs_background": "light"
          }
        }
      ]
    },
    {
      "cell_type": "code",
      "source": [
        "neural_network = NeuralNetwork()\n",
        "print ('Random weights at the start of training')\n",
        "print (neural_network.weight_matrix)\n",
        "neural_network.train(features, np.expand_dims(labels,axis=1), 50, 0.5)\n",
        "\n",
        "\n",
        "print('New weights after training')\n",
        "print(neural_network.weight_matrix)"
      ],
      "metadata": {
        "colab": {
          "base_uri": "https://localhost:8080/",
          "height": 1302
        },
        "id": "emmINyihdHQt",
        "outputId": "26d81e0e-99f3-4925-daa8-3f4ab72151b4"
      },
      "execution_count": 238,
      "outputs": [
        {
          "output_type": "stream",
          "name": "stdout",
          "text": [
            "Random weights at the start of training\n",
            "[[-0.16595599]\n",
            " [ 0.44064899]\n",
            " [-0.99977125]]\n",
            "Iteration #0\n",
            "Iteration #1\n",
            "Iteration #2\n",
            "Iteration #3\n",
            "Iteration #4\n",
            "Iteration #5\n",
            "Iteration #6\n",
            "Iteration #7\n",
            "Iteration #8\n",
            "Iteration #9\n",
            "Iteration #10\n",
            "Iteration #11\n",
            "Iteration #12\n",
            "Iteration #13\n",
            "Iteration #14\n",
            "Iteration #15\n",
            "Iteration #16\n",
            "Iteration #17\n",
            "Iteration #18\n",
            "Iteration #19\n",
            "Iteration #20\n",
            "Iteration #21\n",
            "Iteration #22\n",
            "Iteration #23\n",
            "Iteration #24\n",
            "Iteration #25\n",
            "Iteration #26\n",
            "Iteration #27\n",
            "Iteration #28\n",
            "Iteration #29\n",
            "Iteration #30\n",
            "Iteration #31\n",
            "Iteration #32\n",
            "Iteration #33\n",
            "Iteration #34\n",
            "Iteration #35\n",
            "Iteration #36\n",
            "Iteration #37\n",
            "Iteration #38\n",
            "Iteration #39\n",
            "Iteration #40\n",
            "Iteration #41\n",
            "Iteration #42\n",
            "Iteration #43\n",
            "Iteration #44\n",
            "Iteration #45\n",
            "Iteration #46\n",
            "Iteration #47\n",
            "Iteration #48\n",
            "Iteration #49\n",
            "New weights after training\n",
            "[[-1.47953369]\n",
            " [ 2.56651734]\n",
            " [ 1.08127652]]\n"
          ]
        },
        {
          "output_type": "display_data",
          "data": {
            "text/plain": [
              "<Figure size 432x288 with 1 Axes>"
            ],
            "image/png": "[encoded data removed]"
          },
          "metadata": {
            "needs_background": "light"
          }
        }
      ]
    },
    {
      "cell_type": "code",
      "source": [
        "neural_network = NeuralNetwork()\n",
        "print ('Random weights at the start of training')\n",
        "print (neural_network.weight_matrix)\n",
        "neural_network.train(features, np.expand_dims(labels,axis=1), 50, 0.1)\n",
        "\n",
        "\n",
        "print('New weights after training')\n",
        "print(neural_network.weight_matrix)"
      ],
      "metadata": {
        "colab": {
          "base_uri": "https://localhost:8080/",
          "height": 1302
        },
        "id": "M_Ux9xc_dJea",
        "outputId": "51e7a26f-5898-4fcf-f2cc-29f4147c2d1b"
      },
      "execution_count": 239,
      "outputs": [
        {
          "output_type": "stream",
          "name": "stdout",
          "text": [
            "Random weights at the start of training\n",
            "[[-0.16595599]\n",
            " [ 0.44064899]\n",
            " [-0.99977125]]\n",
            "Iteration #0\n",
            "Iteration #1\n",
            "Iteration #2\n",
            "Iteration #3\n",
            "Iteration #4\n",
            "Iteration #5\n",
            "Iteration #6\n",
            "Iteration #7\n",
            "Iteration #8\n",
            "Iteration #9\n",
            "Iteration #10\n",
            "Iteration #11\n",
            "Iteration #12\n",
            "Iteration #13\n",
            "Iteration #14\n",
            "Iteration #15\n",
            "Iteration #16\n",
            "Iteration #17\n",
            "Iteration #18\n",
            "Iteration #19\n",
            "Iteration #20\n",
            "Iteration #21\n",
            "Iteration #22\n",
            "Iteration #23\n",
            "Iteration #24\n",
            "Iteration #25\n",
            "Iteration #26\n",
            "Iteration #27\n",
            "Iteration #28\n",
            "Iteration #29\n",
            "Iteration #30\n",
            "Iteration #31\n",
            "Iteration #32\n",
            "Iteration #33\n",
            "Iteration #34\n",
            "Iteration #35\n",
            "Iteration #36\n",
            "Iteration #37\n",
            "Iteration #38\n",
            "Iteration #39\n",
            "Iteration #40\n",
            "Iteration #41\n",
            "Iteration #42\n",
            "Iteration #43\n",
            "Iteration #44\n",
            "Iteration #45\n",
            "Iteration #46\n",
            "Iteration #47\n",
            "Iteration #48\n",
            "Iteration #49\n",
            "New weights after training\n",
            "[[-0.28643485]\n",
            " [ 1.29840869]\n",
            " [ 0.34286026]]\n"
          ]
        },
        {
          "output_type": "display_data",
          "data": {
            "text/plain": [
              "<Figure size 432x288 with 1 Axes>"
            ],
            "image/png": "[encoded data removed]"
          },
          "metadata": {
            "needs_background": "light"
          }
        }
      ]
    },
    {
      "cell_type": "code",
      "source": [
        "neural_network = NeuralNetwork()\n",
        "print ('Random weights at the start of training')\n",
        "print (neural_network.weight_matrix)\n",
        "neural_network.train(features, np.expand_dims(labels,axis=1), 50, 0.01)\n",
        "\n",
        "\n",
        "print('New weights after training')\n",
        "print(neural_network.weight_matrix)"
      ],
      "metadata": {
        "colab": {
          "base_uri": "https://localhost:8080/",
          "height": 1302
        },
        "id": "mTM0Anh-laoZ",
        "outputId": "edaf923f-afcc-4454-85a3-18072d4194d5"
      },
      "execution_count": 240,
      "outputs": [
        {
          "output_type": "stream",
          "name": "stdout",
          "text": [
            "Random weights at the start of training\n",
            "[[-0.16595599]\n",
            " [ 0.44064899]\n",
            " [-0.99977125]]\n",
            "Iteration #0\n",
            "Iteration #1\n",
            "Iteration #2\n",
            "Iteration #3\n",
            "Iteration #4\n",
            "Iteration #5\n",
            "Iteration #6\n",
            "Iteration #7\n",
            "Iteration #8\n",
            "Iteration #9\n",
            "Iteration #10\n",
            "Iteration #11\n",
            "Iteration #12\n",
            "Iteration #13\n",
            "Iteration #14\n",
            "Iteration #15\n",
            "Iteration #16\n",
            "Iteration #17\n",
            "Iteration #18\n",
            "Iteration #19\n",
            "Iteration #20\n",
            "Iteration #21\n",
            "Iteration #22\n",
            "Iteration #23\n",
            "Iteration #24\n",
            "Iteration #25\n",
            "Iteration #26\n",
            "Iteration #27\n",
            "Iteration #28\n",
            "Iteration #29\n",
            "Iteration #30\n",
            "Iteration #31\n",
            "Iteration #32\n",
            "Iteration #33\n",
            "Iteration #34\n",
            "Iteration #35\n",
            "Iteration #36\n",
            "Iteration #37\n",
            "Iteration #38\n",
            "Iteration #39\n",
            "Iteration #40\n",
            "Iteration #41\n",
            "Iteration #42\n",
            "Iteration #43\n",
            "Iteration #44\n",
            "Iteration #45\n",
            "Iteration #46\n",
            "Iteration #47\n",
            "Iteration #48\n",
            "Iteration #49\n",
            "New weights after training\n",
            "[[-0.1122277 ]\n",
            " [ 0.58096448]\n",
            " [-0.73483257]]\n"
          ]
        },
        {
          "output_type": "display_data",
          "data": {
            "text/plain": [
              "<Figure size 432x288 with 1 Axes>"
            ],
            "image/png": "[encoded data removed]"
          },
          "metadata": {
            "needs_background": "light"
          }
        }
      ]
    }
  ]
}